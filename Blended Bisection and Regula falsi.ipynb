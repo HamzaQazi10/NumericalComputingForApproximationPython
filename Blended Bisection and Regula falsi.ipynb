{
 "cells": [
  {
   "cell_type": "code",
   "execution_count": 4,
   "metadata": {},
   "outputs": [
    {
     "name": "stdout",
     "output_type": "stream",
     "text": [
      "Root Point is 1.5\n"
     ]
    },
    {
     "ename": "NameError",
     "evalue": "name 'funB' is not defined",
     "output_type": "error",
     "traceback": [
      "\u001b[1;31m---------------------------------------------------------------------------\u001b[0m",
      "\u001b[1;31mNameError\u001b[0m                                 Traceback (most recent call last)",
      "\u001b[1;32m<ipython-input-4-8c13f9152f0b>\u001b[0m in \u001b[0;36m<module>\u001b[1;34m\u001b[0m\n\u001b[0;32m     15\u001b[0m     \u001b[0mmid\u001b[0m\u001b[1;33m=\u001b[0m\u001b[1;33m(\u001b[0m\u001b[0mrootA\u001b[0m\u001b[1;33m+\u001b[0m\u001b[0mrootB\u001b[0m\u001b[1;33m)\u001b[0m\u001b[1;33m/\u001b[0m\u001b[1;36m2\u001b[0m \u001b[1;31m#Formula\u001b[0m\u001b[1;33m\u001b[0m\u001b[1;33m\u001b[0m\u001b[0m\n\u001b[0;32m     16\u001b[0m     \u001b[0mprint\u001b[0m\u001b[1;33m(\u001b[0m\u001b[1;34m\"Root Point is \"\u001b[0m\u001b[1;33m+\u001b[0m\u001b[0mstr\u001b[0m\u001b[1;33m(\u001b[0m\u001b[0mmid\u001b[0m\u001b[1;33m)\u001b[0m\u001b[1;33m)\u001b[0m\u001b[1;33m\u001b[0m\u001b[1;33m\u001b[0m\u001b[0m\n\u001b[1;32m---> 17\u001b[1;33m     \u001b[0mmid1\u001b[0m\u001b[1;33m=\u001b[0m\u001b[1;33m(\u001b[0m\u001b[1;33m(\u001b[0m\u001b[0mrootA\u001b[0m\u001b[1;33m*\u001b[0m\u001b[0mfunB\u001b[0m\u001b[1;33m)\u001b[0m\u001b[1;33m-\u001b[0m\u001b[1;33m(\u001b[0m\u001b[0mrootB\u001b[0m\u001b[1;33m*\u001b[0m\u001b[0mfunA\u001b[0m\u001b[1;33m)\u001b[0m\u001b[1;33m)\u001b[0m\u001b[1;33m/\u001b[0m\u001b[1;33m(\u001b[0m\u001b[0mfunB\u001b[0m\u001b[1;33m-\u001b[0m\u001b[0mfunA\u001b[0m\u001b[1;33m)\u001b[0m\u001b[1;33m\u001b[0m\u001b[1;33m\u001b[0m\u001b[0m\n\u001b[0m\u001b[0;32m     18\u001b[0m     \u001b[0mprint\u001b[0m\u001b[1;33m(\u001b[0m\u001b[1;34m\"Root Point is \"\u001b[0m\u001b[1;33m+\u001b[0m\u001b[0mstr\u001b[0m\u001b[1;33m(\u001b[0m\u001b[0mmid\u001b[0m\u001b[1;33m)\u001b[0m\u001b[1;33m)\u001b[0m\u001b[1;33m\u001b[0m\u001b[1;33m\u001b[0m\u001b[0m\n\u001b[0;32m     19\u001b[0m     \u001b[0mfunMid\u001b[0m\u001b[1;33m=\u001b[0m\u001b[0mcal\u001b[0m\u001b[1;33m(\u001b[0m\u001b[0mmid\u001b[0m\u001b[1;33m)\u001b[0m\u001b[1;33m\u001b[0m\u001b[1;33m\u001b[0m\u001b[0m\n",
      "\u001b[1;31mNameError\u001b[0m: name 'funB' is not defined"
     ]
    }
   ],
   "source": [
    "#Hamza Arshad Qazi\n",
    "#SP19-BCS-084\n",
    "\n",
    "def cal(x):\n",
    "    ans=((x**2)-x-2)\n",
    "    return ans\n",
    "ErrMax=0.0000001\n",
    "k=0  #Iteration Counter\n",
    "rootA=1\n",
    "rootB=2\n",
    "cond=0\n",
    "funMidPrev=0  # To store Previous Approximation\n",
    "errorCond=0\n",
    "while(cond==0 and k<35):\n",
    "    mid=(rootA+rootB)/2 #Formula \n",
    "    print(\"Root Point is \"+str(mid))\n",
    "    mid1=((rootA*funB)-(rootB*funA))/(funB-funA)\n",
    "    print(\"Root Point is \"+str(mid))\n",
    "    funMid=cal(mid)\n",
    "    funA=cal(rootA)\n",
    "    funB=cal(rootB)\n",
    "    funMid=cal(mid)\n",
    "    funMid1=cal(mid1)\n",
    "    if(funMid1<funMid):#Check between the Best root \n",
    "        funMid=funMid1\n",
    "    print(\"Function of A is \"+str(funA))\n",
    "    print(\"Function of B is \"+str(funB))\n",
    "    print(\"Function of Mid is \"+str(funMid))\n",
    "    if((funA*funMid)<0):\n",
    "        rootB=mid\n",
    "    elif((funB*funMid)<0):\n",
    "        rootA=mid\n",
    "    else:\n",
    "        print(\"The Approximate root is \"+str(mid))\n",
    "        cond=1\n",
    "    print(\"A is \"+str(rootA))\n",
    "    print(\"B is \"+str(rootB))\n",
    "    k=k+1\n",
    "    print(\"Iteration is \"+str(k))\n",
    "    midCheck=(rootA+rootB)/2\n",
    "    if(errorCond!=0):# Check for Previous Value if available or not\n",
    "        print(\"Present Approximation\"+str(funMid))\n",
    "        print(\"Previous Approximation\"+str(funMidPrev))\n",
    "        RelativeApproximateError=(funMid-funMidPrev)/funMid\n",
    "        print(\"Error is \"+str(RelativeApproximateError*100)+str('%'))\n",
    "    else:\n",
    "        print(\"No Previous Approximation, So unable to Calculate Relative Approximate Error \")\n",
    "    errorCond=1\n",
    "    funMidPrev=funMid\n",
    "    if(abs(cal(midCheck)) > ErrMax):\n",
    "        cond=0\n",
    "    else:\n",
    "        cond=1\n",
    "        break\n",
    "    print(\"------------------------Next Iteration------------------------------\")\n",
    "print('Approximate Root based on given Conditions(Stoping Criteria) is at ' + str(mid))\n",
    "print(\"------------------------------------------------------\")    \n",
    "    \n",
    "    \n",
    "#     funC=cal(rootC)\n",
    "#     funD=cal(rootD)\n",
    "#     mid=((rootA*funB)-(rootB*funA))/(funB-funA)\n",
    "#     print(\"Root Point is \"+str(mid))\n",
    "#     funMid=cal(mid)\n",
    "#     print(\"Function of A is \"+str(funA))\n",
    "#     print(\"Function of B is \"+str(funB))\n",
    "#     print(\"Function of Mid is \"+str(funMid))\n",
    "#     if((funA*funMid)<0):\n",
    "#         rootB=mid\n",
    "#     elif((funB*funMid)<0):\n",
    "#         rootA=mid\n",
    "#     else:\n",
    "#         print(\"The Approximate root is \"+str(mid))\n",
    "#         cond=1\n",
    "#     print(\"A is \"+str(rootA))\n",
    "#     print(\"B is \"+str(rootB))\n",
    "    \n"
   ]
  },
  {
   "cell_type": "code",
   "execution_count": null,
   "metadata": {},
   "outputs": [],
   "source": []
  },
  {
   "cell_type": "code",
   "execution_count": null,
   "metadata": {},
   "outputs": [],
   "source": []
  }
 ],
 "metadata": {
  "kernelspec": {
   "display_name": "Python 3 (ipykernel)",
   "language": "python",
   "name": "python3"
  },
  "language_info": {
   "codemirror_mode": {
    "name": "ipython",
    "version": 3
   },
   "file_extension": ".py",
   "mimetype": "text/x-python",
   "name": "python",
   "nbconvert_exporter": "python",
   "pygments_lexer": "ipython3",
   "version": "3.9.7"
  }
 },
 "nbformat": 4,
 "nbformat_minor": 4
}
